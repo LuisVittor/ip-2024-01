{
  "nbformat": 4,
  "nbformat_minor": 0,
  "metadata": {
    "colab": {
      "provenance": []
    },
    "kernelspec": {
      "name": "python3",
      "display_name": "Python 3"
    },
    "language_info": {
      "name": "python"
    }
  },
  "cells": [
    {
      "cell_type": "markdown",
      "source": [
        "**Questão 01**\n",
        "\n",
        "package main\n",
        "\n",
        "import \"fmt\"\n",
        "\n",
        "func main() {\n",
        "    var n1, n2, n3, media float64\n",
        "\n",
        "    fmt.Print(\"Nota 1: \")\n",
        "    fmt.Scanln(&n1)\n",
        "\n",
        "    fmt.Print(\"Nota 2: \")\n",
        "    fmt.Scanln(&n2)\n",
        "\n",
        "    fmt.Print(\"Nota 3: \")\n",
        "    fmt.Scanln(&n3)\n",
        "\n",
        "    media = (n1 + n2 + n3) / 3\n",
        "\n",
        "    fmt.Printf(\"Média = %.1f\\n\", media)\n",
        "\n",
        "    if media > 6.0 {\n",
        "        fmt.Println(\"APROVADO\")\n",
        "    } else {\n",
        "        fmt.Println(\"REPROVADO\")\n",
        "    }\n",
        "}"
      ],
      "metadata": {
        "id": "QVzIusTAt-4K"
      }
    },
    {
      "cell_type": "markdown",
      "source": [
        "**Questão 02**\n",
        "\n",
        "package main\n",
        "\n",
        "import \"fmt\"\n",
        "\n",
        "func main() {\n",
        "    var en, nj, ing, vt, pp, pg, pa, pc float64\n",
        "\n",
        "    fmt.Print(\"Número de jogos: \")\n",
        "    fmt.Scanln(&nj)\n",
        "\n",
        "    en = 0\n",
        "    for en < nj {\n",
        "        fmt.Print(\"Quantidade de ingressos: \")\n",
        "        fmt.Scanln(&ing)\n",
        "\n",
        "        fmt.Print(\"Número popular: \")\n",
        "        fmt.Scanln(&pp)\n",
        "\n",
        "        fmt.Print(\"Número geral: \")\n",
        "        fmt.Scanln(&pg)\n",
        "\n",
        "        fmt.Print(\"Número arquibancada: \")\n",
        "        fmt.Scanln(&pa)\n",
        "\n",
        "        fmt.Print(\"Número cadeiras: \")\n",
        "        fmt.Scanln(&pc)\n",
        "\n",
        "        vt = float64(ing*pp/100*1 + ing*pg/100*5 + ing*pa/100*10 + ing*pc/100*20)\n",
        "\n",
        "        fmt.Printf(\"A RENDA DO JOGO N%.f É = %.2f\\n\",en+1, vt)\n",
        "\n",
        "        en = en + 1\n",
        "    }\n",
        "}"
      ],
      "metadata": {
        "id": "Q7v6P12j6CAM"
      }
    },
    {
      "cell_type": "markdown",
      "source": [
        "**Questão 03**\n",
        "\n",
        "package main\n",
        "\n",
        "import \"fmt\"\n",
        "\n",
        "func main() {\n",
        "    var n1, n2, n3, r, c int\n",
        "\n",
        "    fmt.Print(\"Número 1: \")\n",
        "    fmt.Scanln(&n1)\n",
        "\n",
        "    fmt.Print(\"Número 2: \")\n",
        "    fmt.Scanln(&n2)\n",
        "\n",
        "    fmt.Print(\"Número 3: \")\n",
        "    fmt.Scanln(&n3)\n",
        "\n",
        "    c = n1*100 + n2*10 + n3\n",
        "    r = c * c\n",
        "\n",
        "    if (n1 > 9) || (n2 > 9) || (n3 > 9) || (r < 100) {\n",
        "        fmt.Println(\"DÍGITO INVÁLIDO\")\n",
        "    } else {\n",
        "        fmt.Println(c, \",\", r)\n",
        "    }\n",
        "}"
      ],
      "metadata": {
        "id": "2na_JG1e6LAK"
      }
    },
    {
      "cell_type": "markdown",
      "source": [
        "**Questão 04**\n",
        "\n",
        "package main\n",
        "\n",
        "import \"fmt\"\n",
        "\n",
        "func main() {\n",
        "    var kw, d, c, s, kwg float64\n",
        "\n",
        "    fmt.Print(\"Salário: \")\n",
        "    fmt.Scanln(&s)\n",
        "\n",
        "    fmt.Print(\"Gasto de kw: \")\n",
        "    fmt.Scanln(&kwg)\n",
        "\n",
        "    kw = (s * 0.7) / 100\n",
        "    c = kw * kwg\n",
        "    d = c - (c * 0.1)\n",
        "\n",
        "    fmt.Printf(\"Custo por kw: R$%.2f\\n\", kw)\n",
        "    fmt.Printf(\"Custo de consumo: R$%.2f\\n\", c)\n",
        "    fmt.Printf(\"Custo com desconto: R$%.2f\\n\", d)\n",
        "}"
      ],
      "metadata": {
        "id": "u_SI4ez0A45j"
      }
    },
    {
      "cell_type": "markdown",
      "source": [
        "**Questão 05**\n",
        "\n",
        "package main\n",
        "\n",
        "import \"fmt\"\n",
        "\n",
        "func main() {\n",
        "    var co, g, v float64\n",
        "    var tc string\n",
        "\n",
        "    fmt.Print(\"Informe o número da conta: \")\n",
        "    fmt.Scanln(&co)\n",
        "\n",
        "    fmt.Print(\"Informe a quantidade de gasto: \")\n",
        "    fmt.Scanln(&g)\n",
        "\n",
        "    fmt.Print(\"Tipo da conta: \")\n",
        "    fmt.Scanln(&tc)\n",
        "\n",
        "    if tc == \"r\" {\n",
        "        v = 5 + g*5/100\n",
        "    } else if tc == \"c\" {\n",
        "        if g <= 80 {\n",
        "            v = 500\n",
        "        } else {\n",
        "            v = 500 + (g-80)*25/100\n",
        "        }\n",
        "    } else if tc == \"i\" {\n",
        "        if g <= 100 {\n",
        "            v = 800\n",
        "        } else {\n",
        "            v = 800 + (g-100)*4/100\n",
        "        }\n",
        "    }\n",
        "\n",
        "    fmt.Println(\"CONTA =\", co)\n",
        "    fmt.Printf(\"VALOR DA CONTA %.2f\\n\", v)\n",
        "}"
      ],
      "metadata": {
        "id": "UjRoIiB-CJUj"
      }
    },
    {
      "cell_type": "markdown",
      "source": [
        "**Questão 06**\n",
        "\n",
        "package main\n",
        "\n",
        "import \"fmt\"\n",
        "\n",
        "func main() {\n",
        "    var c, f float64\n",
        "    var n, i int\n",
        "\n",
        "    fmt.Print(\"Número de testes: \")\n",
        "    fmt.Scanln(&i)\n",
        "\n",
        "    n = 0\n",
        "    for n < i {\n",
        "        fmt.Print(\"Fahrenheit: \")\n",
        "        fmt.Scanln(&f)\n",
        "\n",
        "        c = 5 * (f - 32) / 9\n",
        "\n",
        "        fmt.Printf(\"%.2f FAHRENHEIT EQUIVALE A %.2f\\n\", f, c)\n",
        "\n",
        "        n = n + 1\n",
        "    }\n",
        "}"
      ],
      "metadata": {
        "id": "nU3LZFnGDN_c"
      }
    },
    {
      "cell_type": "markdown",
      "source": [
        "**Questão 07**\n",
        "\n",
        "package main\n",
        "\n",
        "import \"fmt\"\n",
        "\n",
        "func main() {\n",
        "    var f, p int\n",
        "    var c, mm float64\n",
        "\n",
        "    fmt.Print(\"Fahrenheit: \")\n",
        "    fmt.Scanln(&f)\n",
        "\n",
        "    fmt.Print(\"Polegadas: \")\n",
        "    fmt.Scanln(&p)\n",
        "\n",
        "    c = 5 * (float64(f) - 32) / 9\n",
        "    mm = float64(p) * 25.4\n",
        "\n",
        "    fmt.Printf(\"O VALOR EM CELSIUS = %.2f\\n\", c)\n",
        "    fmt.Printf(\"A QUANTIDADE DE CHUVA = %.2f mm\\n\", mm)\n",
        "}"
      ],
      "metadata": {
        "id": "stid6WwpFEnK"
      }
    },
    {
      "cell_type": "markdown",
      "source": [
        "**Questão 08**\n",
        "\n",
        "package main\n",
        "\n",
        "import \"fmt\"\n",
        "\n",
        "func main() {\n",
        "    var r, h, a, vc float64\n",
        "\n",
        "    fmt.Print(\"Raio: \")\n",
        "    fmt.Scanln(&r)\n",
        "\n",
        "    fmt.Print(\"Altura: \")\n",
        "    fmt.Scanln(&h)\n",
        "\n",
        "    a = 2*(3.14159*r*r) + 2*3.14159*r*h\n",
        "    vc = a * 100\n",
        "\n",
        "    fmt.Printf(\"O VALOR DO CUSTO = %.2f\\n\", vc)\n",
        "}"
      ],
      "metadata": {
        "id": "LyKuCl6GGrIs"
      }
    },
    {
      "cell_type": "markdown",
      "source": [
        "**Questão 09**\n",
        "\n",
        "package main\n",
        "\n",
        "import \"fmt\"\n",
        "\n",
        "\n",
        "func main() {\n",
        "\tvar a, b, c int\n",
        "\tvar d float64\n",
        "\n",
        "\tfmt.Print(\"Número a: \")\n",
        "\tfmt.Scanln(&a)\n",
        "\n",
        "\tfmt.Print(\"Número b: \")\n",
        "\tfmt.Scanln(&b)\n",
        "\n",
        "\tfmt.Print(\"Número c: \")\n",
        "\tfmt.Scanln(&c)\n",
        "\n",
        "\td = float64((b*b) - 4*a*c)\n",
        "\n",
        "\tfmt.Printf(\"O VALOR DE DELTA = %.2f\\n\", d)\n",
        "}"
      ],
      "metadata": {
        "id": "pD9rpuw1HODM"
      }
    },
    {
      "cell_type": "markdown",
      "source": [
        "**Questão 10**\n",
        "\n",
        "package main\n",
        "\n",
        "import \"fmt\"\n",
        "\n",
        "func main() {\n",
        "    var a, b, c, d, m1, m2, det float64\n",
        "\n",
        "    fmt.Print(\"Número a: \")\n",
        "    fmt.Scanln(&a)\n",
        "\n",
        "    fmt.Print(\"Número b: \")\n",
        "    fmt.Scanln(&b)\n",
        "\n",
        "    fmt.Print(\"Número c: \")\n",
        "    fmt.Scanln(&c)\n",
        "\n",
        "    fmt.Print(\"Número d: \")\n",
        "    fmt.Scanln(&d)\n",
        "\n",
        "    m1 = a * d\n",
        "    m2 = b * c\n",
        "    det = m1 - m2\n",
        "\n",
        "    fmt.Printf(\"O VALOR DO DETERMINANTE É = %.2f\\n\", det)\n",
        "}"
      ],
      "metadata": {
        "id": "IVi8mQgeH69E"
      }
    },
    {
      "cell_type": "markdown",
      "source": [
        "**Questão 11**\n",
        "\n",
        "package main\n",
        "\n",
        "import \"fmt\"\n",
        "\n",
        "func main() {\n",
        "    var n int\n",
        "\n",
        "    fmt.Print(\"Insira seu número: \")\n",
        "    fmt.Scanln(&n)\n",
        "\n",
        "    if n%3 == 0 && n%5 == 0 {\n",
        "        fmt.Println(\"NÚMERO É DIVISÍVEL\")\n",
        "    } else {\n",
        "        fmt.Println(\"NÚMERO NÃO É DIVISÍVEL\")\n",
        "    }\n",
        "}"
      ],
      "metadata": {
        "id": "Mf3v2GiPIZ3M"
      }
    },
    {
      "cell_type": "markdown",
      "source": [
        "**Questão 12**\n",
        "\n",
        "package main\n",
        "\n",
        "import \"fmt\"\n",
        "\n",
        "func main() {\n",
        "    var h, v float64\n",
        "\n",
        "    fmt.Print(\"O número de horas : \")\n",
        "\n",
        "    fmt.Scanln(&h)\n",
        "\n",
        "    if h >= 3 {\n",
        "        v = 10.0 * (h / 3)\n",
        "    } else {\n",
        "        v = 5.0 * h\n",
        "    }\n",
        "\n",
        "    fmt.Printf(\"O VALOR A PAGAR É = %.2f\\n\", v)\n",
        "}"
      ],
      "metadata": {
        "id": "akBPxLHjJNuP"
      }
    },
    {
      "cell_type": "markdown",
      "source": [
        "**Questão 13**\n",
        "\n",
        "package main\n",
        "\n",
        "import \"fmt\"\n",
        "\n",
        "func main() {\n",
        "    var n float64\n",
        "    var con string\n",
        "\n",
        "    fmt.Print(\"Nota: \")\n",
        "    fmt.Scanln(&n)\n",
        "\n",
        "    if n < 0 || n > 10.0 {\n",
        "        fmt.Println(\"DIGITO INVALIDO\")\n",
        "    } else {\n",
        "        if n <= 5.9 {\n",
        "            con = \"d\"\n",
        "        } else if n >= 6.0 && n < 7.4 {\n",
        "            con = \"c\"\n",
        "        } else if n >= 7.5 && n < 8.9 {\n",
        "            con = \"b\"\n",
        "        } else if n >= 9.0 {\n",
        "            con = \"a\"\n",
        "        }\n",
        "\n",
        "        fmt.Printf(\"NOTA = %.1f CONCEITO = %s\\n\", n, con)\n",
        "    }\n",
        "}"
      ],
      "metadata": {
        "id": "ds3PsNTPNxhd"
      }
    },
    {
      "cell_type": "markdown",
      "source": [
        "**Questão 14**\n",
        "\n",
        "package main\n",
        "\n",
        "import (\n",
        "    \"fmt\"\n",
        "    \"math\"\n",
        ")\n",
        "\n",
        "func main() {\n",
        "    var h, ar, v float64\n",
        "\n",
        "    fmt.Print(\"Altura: \")\n",
        "    fmt.Scanln(&h)\n",
        "\n",
        "    fmt.Print(\"Aresta: \")\n",
        "    fmt.Scanln(&ar)\n",
        "\n",
        "    v = (1.0 / 3.0) * ((3.0 * math.Pow(ar, 2) * math.Sqrt(3)) / 2.0) * h\n",
        "\n",
        "    fmt.Printf(\"O VOLUME DA PIRÂMIDE É = %.2f METROS CÚBICOS\\n\", v)\n",
        "}\n"
      ],
      "metadata": {
        "id": "JkzICOHrWz-y"
      }
    },
    {
      "cell_type": "markdown",
      "source": [
        "**Questão 15**\n",
        "\n",
        "package main\n",
        "\n",
        "import \"fmt\"\n",
        "\n",
        "func main() {\n",
        "\tvar n, i int\n",
        "\tvar q float64\n",
        "\n",
        "\tfmt.Print(\"Digite um valor inteiro N (5 < N < 2000): \")\n",
        "\tfmt.Scanln(&n)\n",
        "\n",
        "\tfor i = 2; i <= n; i += 2 {\n",
        "\t\tq = float64(i * i)\n",
        "\t\tfmt.Printf(\"%d^2 = %.0f\\n\", i, q)\n",
        "\t}\n",
        "}"
      ],
      "metadata": {
        "id": "_KAOiebeXovZ"
      }
    },
    {
      "cell_type": "markdown",
      "source": [
        "**Questão 16**\n",
        "\n",
        "package main\n",
        "\n",
        "import \"fmt\"\n",
        "\n",
        "func main() {\n",
        "    var s, sr float64\n",
        "\n",
        "    fmt.Print(\"Salário: \")\n",
        "    fmt.Scanln(&s)\n",
        "\n",
        "    if s <= 300 {\n",
        "        sr = s + (s * 50 / 100)\n",
        "    } else {\n",
        "        sr = s + (s * 30 / 100)\n",
        "    }\n",
        "\n",
        "    fmt.Printf(\"SALÁRIO COM REAJUSTE = %.2f\\n\", sr)\n",
        "}"
      ],
      "metadata": {
        "id": "TQ1uq1saZhHx"
      }
    },
    {
      "cell_type": "markdown",
      "source": [
        "**Questão 17**\n",
        "\n",
        "package main\n",
        "\n",
        "import \"fmt\"\n",
        "\n",
        "func main() {\n",
        "\tvar pr, p, s, n int\n",
        "\n",
        "\tfmt.Println(\"Insira dois números:\")\n",
        "\tfmt.Scanln(&p, &s)\n",
        "\n",
        "\tif p%2 == 0 {\n",
        "\t\tfor n = 1; n <= s; n++ {\n",
        "\t\t\tpr = p + (n - 1) * 2\n",
        "\t\t\tfmt.Printf(\"%d \", pr)\n",
        "\t\t}\n",
        "\t} else {\n",
        "\t\tfmt.Println(\"O PRIMEIRO NÚMERO NÃO É PAR\")\n",
        "\t}\n",
        "}\n"
      ],
      "metadata": {
        "id": "7H3KBknOa1wl"
      }
    },
    {
      "cell_type": "markdown",
      "source": [
        "**Questão 18**\n",
        "\n",
        "package main\n",
        "\n",
        "import \"fmt\"\n",
        "\n",
        "func main() {\n",
        "\tvar vi, r, ne, s, n int\n",
        "\n",
        "\tfmt.Println(\"Insira o valor inicial, a razão e o número de elementos:\")\n",
        "\tfmt.Scanln(&vi, &r, &ne)\n",
        "\n",
        "\ts = 0\n",
        "\n",
        "\tfor n = 0; n <= ne-1; n++ {\n",
        "\t\ts += vi + n*r\n",
        "\t}\n",
        "\n",
        "\tfmt.Print(s, \" \")\n",
        "}"
      ],
      "metadata": {
        "id": "UvCCI3jPv2Vk"
      }
    },
    {
      "cell_type": "markdown",
      "source": [
        "**Questão 19**\n",
        "\n",
        "package main\n",
        "\n",
        "import \"fmt\"\n",
        "\n",
        "func main() {\n",
        "    var n, k int\n",
        "    var s float64\n",
        "\n",
        "    fmt.Print(\"Numero: \")\n",
        "    fmt.Scanln(&n)\n",
        "\n",
        "    if n < 1 {\n",
        "        fmt.Println(\"Número inválido!\")\n",
        "    } else {\n",
        "        s = 0\n",
        "        for k = 1; k <= n; k++ {\n",
        "            s += 1.0 / float64(k)\n",
        "        }\n",
        "        fmt.Printf(\"Resultado = %.6f\\n\", s)\n",
        "    }\n",
        "}"
      ],
      "metadata": {
        "id": "lxdwIX1kwYrc"
      }
    },
    {
      "cell_type": "markdown",
      "source": [
        "**Questão 20**\n",
        "\n",
        "package main\n",
        "\n",
        "import \"fmt\"\n",
        "\n",
        "func main() {\n",
        "    var h, m, s, tts int\n",
        "\n",
        "    fmt.Print(\"Horas: \")\n",
        "    fmt.Scanln(&h)\n",
        "\n",
        "    fmt.Print(\"Minutos: \")\n",
        "    fmt.Scanln(&m)\n",
        "\n",
        "    fmt.Print(\"Segundos: \")\n",
        "    fmt.Scanln(&s)\n",
        "\n",
        "    tts = h*3600 + m*60 + s\n",
        "\n",
        "    fmt.Println(\"O TEMPO EM SEGUNDOS É =\", tts)\n",
        "}"
      ],
      "metadata": {
        "id": "ASFLu_r1xd1Y"
      }
    }
  ]
}